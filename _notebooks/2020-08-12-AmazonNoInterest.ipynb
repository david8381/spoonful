{
 "cells": [
  {
   "cell_type": "markdown",
   "metadata": {},
   "source": [
    "# Amazon Prime 0% Interest"
   ]
  },
  {
   "cell_type": "markdown",
   "metadata": {},
   "source": [
    "When purchasing items on amazon.com using Amazon's Amazon Prime credit card, I get 5% cash back OR I have the option to get 6 months 0% financing while making 6 equal monthly payments.\n",
    "However, giving up the 5% cashback is equivalent to paying interest.  The goal of this post is to determine how much interest is effectively paid."
   ]
  },
  {
   "cell_type": "code",
   "execution_count": 1,
   "metadata": {},
   "outputs": [],
   "source": [
    "product_cost = 100\n",
    "cash_back_rate = .05\n",
    "loan_term_months = 6\n",
    "monthly_payment = product_cost / loan_term_months\n",
    "\n",
    "debt_free_cost = product_cost - product_cost * cash_back_rate\n",
    "debt_cost = product_cost\n",
    "\n",
    "interest_paid = debt_cost - debt_free_cost "
   ]
  },
  {
   "cell_type": "code",
   "execution_count": 2,
   "metadata": {},
   "outputs": [
    {
     "name": "stdout",
     "output_type": "stream",
     "text": [
      "Purchase a product for $100\n",
      "Monthly Payments: $16.67 for 6 months.\n",
      "\n",
      "Debt Level after 1 Months: 100\n",
      "Debt Level after 2 Months: 83.33333333333333\n",
      "Debt Level after 3 Months: 66.66666666666666\n",
      "Debt Level after 4 Months: 49.999999999999986\n",
      "Debt Level after 5 Months: 33.333333333333314\n",
      "Debt Level after 6 Months: 16.666666666666647\n",
      "Giving up 5.0% cash back is equivalent to an effective Interest Rate: 17.14285714285715%\n"
     ]
    }
   ],
   "source": [
    "print(f\"Purchase a product for ${product_cost}\")\n",
    "print(f'Monthly Payments: ${round(monthly_payment,2)} for {loan_term_months} months.\\n')\n",
    "debt_level = product_cost\n",
    "annual_debt_dollars = 0\n",
    "for month in range(1, loan_term_months+1):\n",
    "    annual_debt_dollars += debt_level/12\n",
    "    print(f'Debt Level after {month} Months: {debt_level}')\n",
    "    debt_level = debt_level - monthly_payment\n",
    "effective_interest_rate = interest_paid/annual_debt_dollars\n",
    "print(f\"Giving up {cash_back_rate*100}% cash back is equivalent to an effective Interest Rate: {effective_interest_rate*100}%\")\n",
    "\n"
   ]
  },
  {
   "cell_type": "markdown",
   "metadata": {},
   "source": [
    "# CHECK"
   ]
  },
  {
   "cell_type": "code",
   "execution_count": 3,
   "metadata": {},
   "outputs": [
    {
     "name": "stdout",
     "output_type": "stream",
     "text": [
      "5.000000000000001\n"
     ]
    }
   ],
   "source": [
    "interest_paid = 0\n",
    "debt_level = product_cost\n",
    "for month in range(1, loan_term_months+1):\n",
    "    interest_paid += effective_interest_rate/12 * debt_level\n",
    "    debt_level = debt_level - monthly_payment\n",
    "print(interest_paid)"
   ]
  },
  {
   "cell_type": "code",
   "execution_count": null,
   "metadata": {},
   "outputs": [],
   "source": []
  }
 ],
 "metadata": {
  "kernelspec": {
   "display_name": "Python 3",
   "language": "python",
   "name": "python3"
  },
  "language_info": {
   "codemirror_mode": {
    "name": "ipython",
    "version": 3
   },
   "file_extension": ".py",
   "mimetype": "text/x-python",
   "name": "python",
   "nbconvert_exporter": "python",
   "pygments_lexer": "ipython3",
   "version": "3.7.7"
  }
 },
 "nbformat": 4,
 "nbformat_minor": 4
}
